{
 "cells": [
  {
   "cell_type": "code",
   "execution_count": 1,
   "id": "834de1e8",
   "metadata": {
    "scrolled": true
   },
   "outputs": [],
   "source": [
    "import os\n",
    "import pickle\n",
    "from tqdm import tqdm\n",
    "import mediapipe as mp\n",
    "import cv2\n",
    "\n",
    "mp_hands = mp.solutions.hands\n",
    "mp_drawing = mp.solutions.drawing_utils\n",
    "mp_drawing_styles = mp.solutions.drawing_styles\n",
    "\n",
    "hands = mp_hands.Hands(static_image_mode=True, min_detection_confidence=0.3)\n",
    "\n",
    "DATA_DIR = './data/'\n",
    "data = []\n",
    "labels = []\n",
    "\n",
    "\n",
    "\n",
    "# Loop through each data file\n",
    "for data_file in os.listdir(DATA_DIR):\n",
    "    data_path = os.path.join(DATA_DIR, data_file)\n",
    "    if os.path.isdir(data_path):\n",
    "        for subdirectory in os.listdir(data_path):\n",
    "            category_dir = os.path.join(data_path, subdirectory)\n",
    "            if os.path.isdir(category_dir):\n",
    "                for img_path in os.listdir(category_dir):\n",
    "                    data_aux = []\n",
    "                    x_ = []\n",
    "                    y_ = []\n",
    "\n",
    "                    img = cv2.imread(os.path.join(category_dir, img_path).replace('\\\\', '/'))\n",
    "                    if img is not None:\n",
    "                        img_rgb = cv2.cvtColor(img, cv2.COLOR_BGR2RGB)\n",
    "                        results = hands.process(img_rgb)\n",
    "\n",
    "                        if results.multi_hand_landmarks:\n",
    "                            for hand_landmarks in results.multi_hand_landmarks:\n",
    "                                for landmark in hand_landmarks.landmark:\n",
    "                                    x = landmark.x\n",
    "                                    y = landmark.y\n",
    "                                    x_.append(x)\n",
    "                                    y_.append(y)\n",
    "\n",
    "                            for landmark in hand_landmarks.landmark:\n",
    "                                x = landmark.x\n",
    "                                y = landmark.y\n",
    "                                data_aux.append(x - min(x_))\n",
    "                                data_aux.append(y - min(y_))\n",
    "\n",
    "                            data.append(data_aux)\n",
    "                            labels.append(subdirectory)\n",
    "\n",
    "                            \n",
    "\n",
    "                        else:\n",
    "                            print(f\"No hand landmarks detected in {data_file} => {subdirectory} =>{img_path}\")\n",
    "                    else:\n",
    "                        print(f\"Failed to load image: {img_path}\")\n",
    "\n",
    "# Save all the data and labels in a single pickle file\n",
    "with open('data.pickle', 'wb') as f:\n",
    "    pickle.dump({'data': data, 'labels': labels}, f)\n"
   ]
  },
  {
   "cell_type": "code",
   "execution_count": null,
   "id": "089e8bb0",
   "metadata": {},
   "outputs": [],
   "source": []
  },
  {
   "cell_type": "code",
   "execution_count": null,
   "id": "39c6f89d",
   "metadata": {},
   "outputs": [],
   "source": []
  },
  {
   "cell_type": "code",
   "execution_count": null,
   "id": "b9d14351",
   "metadata": {},
   "outputs": [],
   "source": []
  }
 ],
 "metadata": {
  "kernelspec": {
   "display_name": "Python 3 (ipykernel)",
   "language": "python",
   "name": "python3"
  },
  "language_info": {
   "codemirror_mode": {
    "name": "ipython",
    "version": 3
   },
   "file_extension": ".py",
   "mimetype": "text/x-python",
   "name": "python",
   "nbconvert_exporter": "python",
   "pygments_lexer": "ipython3",
   "version": "3.8.8"
  },
  "varInspector": {
   "cols": {
    "lenName": 16,
    "lenType": 16,
    "lenVar": 40
   },
   "kernels_config": {
    "python": {
     "delete_cmd_postfix": "",
     "delete_cmd_prefix": "del ",
     "library": "var_list.py",
     "varRefreshCmd": "print(var_dic_list())"
    },
    "r": {
     "delete_cmd_postfix": ") ",
     "delete_cmd_prefix": "rm(",
     "library": "var_list.r",
     "varRefreshCmd": "cat(var_dic_list()) "
    }
   },
   "types_to_exclude": [
    "module",
    "function",
    "builtin_function_or_method",
    "instance",
    "_Feature"
   ],
   "window_display": false
  }
 },
 "nbformat": 4,
 "nbformat_minor": 5
}
